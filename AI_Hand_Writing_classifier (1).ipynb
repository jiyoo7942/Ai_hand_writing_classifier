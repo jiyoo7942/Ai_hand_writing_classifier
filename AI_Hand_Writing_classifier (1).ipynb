{
 "cells": [
  {
   "cell_type": "code",
   "execution_count": 8,
   "metadata": {},
   "outputs": [],
   "source": [
    "from keras.datasets import mnist\n",
    "from keras.utils import np_utils\n",
    "from keras.models import Sequential\n",
    "from keras.layers import Dense, Dropout, Flatten, Conv2D, MaxPooling2D\n",
    "from keras.callbacks import ModelCheckpoint,EarlyStopping\n",
    "\n",
    "import matplotlib.pyplot as plt\n",
    "import numpy\n",
    "import os\n",
    "import tensorflow as tf\n",
    "\n",
    "# seed 값 설정\n",
    "seed = 0\n",
    "numpy.random.seed(seed)\n",
    "tf.random.set_seed(3)"
   ]
  },
  {
   "cell_type": "code",
   "execution_count": 9,
   "metadata": {},
   "outputs": [],
   "source": [
    "# 데이터 불러오기\n",
    "(X_train, Y_train), (X_test, Y_test) = mnist.load_data()\n",
    "X_train = X_train.reshape(X_train.shape[0], 28, 28, 1).astype('float32') / 255\n",
    "X_test = X_test.reshape(X_test.shape[0], 28, 28, 1).astype('float32') / 255\n",
    "Y_train = np_utils.to_categorical(Y_train)\n",
    "Y_test = np_utils.to_categorical(Y_test)"
   ]
  },
  {
   "cell_type": "code",
   "execution_count": 10,
   "metadata": {},
   "outputs": [],
   "source": [
    "# 컨볼루션 신경망의 설정\n",
    "model = Sequential()\n",
    "model.add(Conv2D(32, kernel_size=(3, 3), input_shape=(28, 28, 1), activation='relu'))\n",
    "model.add(Conv2D(64, (3, 3), activation='relu'))\n",
    "model.add(MaxPooling2D(pool_size=2))\n",
    "model.add(Dropout(0.25))\n",
    "model.add(Flatten())\n",
    "model.add(Dense(128,  activation='relu'))\n",
    "model.add(Dropout(0.5))\n",
    "model.add(Dense(10, activation='softmax'))\n",
    "\n",
    "model.compile(loss='categorical_crossentropy',\n",
    "              optimizer='adam',\n",
    "              metrics=['accuracy'])"
   ]
  },
  {
   "cell_type": "code",
   "execution_count": 11,
   "metadata": {},
   "outputs": [],
   "source": [
    "# 모델 최적화 설정\n",
    "MODEL_DIR = './model/'\n",
    "if not os.path.exists(MODEL_DIR):\n",
    "    os.mkdir(MODEL_DIR)\n",
    "\n",
    "modelpath=\"./model/{epoch:02d}-{val_loss:.4f}.hdf5\"\n",
    "checkpointer = ModelCheckpoint(filepath=modelpath, monitor='val_loss', verbose=1, save_best_only=True)\n",
    "early_stopping_callback = EarlyStopping(monitor='val_loss', patience=10)"
   ]
  },
  {
   "cell_type": "code",
   "execution_count": 12,
   "metadata": {},
   "outputs": [
    {
     "name": "stdout",
     "output_type": "stream",
     "text": [
      "\n",
      "Epoch 00001: val_loss improved from inf to 0.05325, saving model to ./model/01-0.0532.hdf5\n",
      "\n",
      "Epoch 00002: val_loss improved from 0.05325 to 0.03952, saving model to ./model/02-0.0395.hdf5\n",
      "\n",
      "Epoch 00003: val_loss improved from 0.03952 to 0.03500, saving model to ./model/03-0.0350.hdf5\n",
      "\n",
      "Epoch 00004: val_loss improved from 0.03500 to 0.03306, saving model to ./model/04-0.0331.hdf5\n",
      "\n",
      "Epoch 00005: val_loss improved from 0.03306 to 0.02984, saving model to ./model/05-0.0298.hdf5\n",
      "\n",
      "Epoch 00006: val_loss improved from 0.02984 to 0.02978, saving model to ./model/06-0.0298.hdf5\n",
      "\n",
      "Epoch 00007: val_loss did not improve from 0.02978\n",
      "\n",
      "Epoch 00008: val_loss improved from 0.02978 to 0.02868, saving model to ./model/08-0.0287.hdf5\n",
      "\n",
      "Epoch 00009: val_loss did not improve from 0.02868\n",
      "\n",
      "Epoch 00010: val_loss did not improve from 0.02868\n",
      "\n",
      "Epoch 00011: val_loss did not improve from 0.02868\n",
      "\n",
      "Epoch 00012: val_loss improved from 0.02868 to 0.02842, saving model to ./model/12-0.0284.hdf5\n",
      "\n",
      "Epoch 00013: val_loss did not improve from 0.02842\n",
      "\n",
      "Epoch 00014: val_loss did not improve from 0.02842\n",
      "\n",
      "Epoch 00015: val_loss did not improve from 0.02842\n",
      "\n",
      "Epoch 00016: val_loss improved from 0.02842 to 0.02639, saving model to ./model/16-0.0264.hdf5\n",
      "\n",
      "Epoch 00017: val_loss did not improve from 0.02639\n",
      "\n",
      "Epoch 00018: val_loss did not improve from 0.02639\n",
      "\n",
      "Epoch 00019: val_loss did not improve from 0.02639\n",
      "\n",
      "Epoch 00020: val_loss did not improve from 0.02639\n",
      "\n",
      "Epoch 00021: val_loss did not improve from 0.02639\n",
      "\n",
      "Epoch 00022: val_loss did not improve from 0.02639\n",
      "\n",
      "Epoch 00023: val_loss did not improve from 0.02639\n",
      "\n",
      "Epoch 00024: val_loss did not improve from 0.02639\n",
      "\n",
      "Epoch 00025: val_loss did not improve from 0.02639\n",
      "\n",
      "Epoch 00026: val_loss did not improve from 0.02639\n"
     ]
    }
   ],
   "source": [
    "# 모델의 실행\n",
    "history = model.fit(X_train, Y_train, validation_data=(X_test, Y_test), epochs=30, batch_size=200, verbose=0, callbacks=[early_stopping_callback,checkpointer])"
   ]
  },
  {
   "cell_type": "code",
   "execution_count": 13,
   "metadata": {},
   "outputs": [
    {
     "name": "stdout",
     "output_type": "stream",
     "text": [
      "313/313 [==============================] - 1s 3ms/step - loss: 0.0335 - accuracy: 0.9918\n",
      "\n",
      " Test Accuracy: 0.9918\n"
     ]
    }
   ],
   "source": [
    "# 테스트 정확도 출력\n",
    "print(\"\\n Test Accuracy: %.4f\" % (model.evaluate(X_test, Y_test)[1]))"
   ]
  }
 ],
 "metadata": {
  "kernelspec": {
   "display_name": "Python 3 (ipykernel)",
   "language": "python",
   "name": "python3"
  },
  "language_info": {
   "codemirror_mode": {
    "name": "ipython",
    "version": 3
   },
   "file_extension": ".py",
   "mimetype": "text/x-python",
   "name": "python",
   "nbconvert_exporter": "python",
   "pygments_lexer": "ipython3",
   "version": "3.9.7"
  }
 },
 "nbformat": 4,
 "nbformat_minor": 2
}
